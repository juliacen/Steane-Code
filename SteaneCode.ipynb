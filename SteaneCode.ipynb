{
 "cells": [
  {
   "cell_type": "markdown",
   "id": "1c30b200",
   "metadata": {},
   "source": [
    "# Steane's Code Under Random Pauli Error\n",
    "**Author:** Julia Cen"
   ]
  },
  {
   "cell_type": "markdown",
   "id": "37aeca9b-c0c9-43db-82ee-0a1d6f2151e1",
   "metadata": {},
   "source": [
    "## What is the Steane's Code?"
   ]
  },
  {
   "cell_type": "markdown",
   "id": "0b060453-3500-409f-9078-e0d3b06ecc43",
   "metadata": {},
   "source": [
    "One of the major challenges faced in quantum computation is how susceptible quantum states are to errors, for example, from interactions with the environment. One way to tackle this is with quantum error correction codes. In this notebook, we will look at one example called Steane's code. This code was developed by Steane in 1996 [1]. It is a [[7,1,3]] quantum code, a type of Calderbank–Shor–Steane (CSS) code (stabilizers are only of X-type or Z-type) based on the classical [7,4,3] Hamming code. The code encodes 1 logical qubit into 7 physical qubits with code distance 3 (minimum weight/number of Pauli errors of a logical operator such that it commutes with all stabilizers, but is not a stabilizer itself). Steane's code can detect and correct $\\frac{d-1}{2}=1$ arbitrary qubit errors."
   ]
  },
  {
   "cell_type": "markdown",
   "id": "8d95c19c-7530-46e1-ba11-cddc1fa95f87",
   "metadata": {},
   "source": [
    "## Building Steane's Code"
   ]
  },
  {
   "cell_type": "markdown",
   "id": "923dca67",
   "metadata": {},
   "source": [
    "We will write Steane's code to help us correct a bit flip (X), phase flip (Z), or bit+phase flip (Y) for each independent qubit in a $|x>$ state formed from a given Boolean string $x\\in \\mathbb{F}^n_2$."
   ]
  },
  {
   "cell_type": "markdown",
   "id": "ec2209b2-3365-4ef4-8dcb-9f61641daf7a",
   "metadata": {},
   "source": [
    "### The Code Structure"
   ]
  },
  {
   "cell_type": "markdown",
   "id": "38c7a096-11fc-43a7-88a8-b9bc6f2b2a53",
   "metadata": {},
   "source": [
    "1) Encoding $|x>$ to a logical $|x_L>$ state for Steane's code\n",
    "2) Run the encoded logical state $|x_L>$ through a Pauli error channel\n",
    "3) Measure syndromes to find where 1 qubit errors occurred \n",
    "4) Apply recovery operations to fix any 1 qubit errors\n",
    "5) Measure the data qubits and decode the result to see how the recovery went"
   ]
  },
  {
   "cell_type": "code",
   "execution_count": 1,
   "id": "130cfcac",
   "metadata": {},
   "outputs": [],
   "source": [
    "from qiskit import *\n",
    "from qiskit.quantum_info import *\n",
    "from qiskit.circuit.library import *\n",
    "from qiskit.visualization import *\n",
    "from qiskit_aer import AerSimulator\n",
    "\n",
    "import numpy as np\n",
    "import matplotlib.pyplot as plt\n",
    "\n",
    "from IPython.display import Latex"
   ]
  },
  {
   "cell_type": "markdown",
   "id": "a53395ce",
   "metadata": {},
   "source": [
    "### Encoding $|x>$"
   ]
  },
  {
   "cell_type": "markdown",
   "id": "a8edd47a-d5c8-4127-aa2d-9aafc902ee07",
   "metadata": {},
   "source": [
    "The Steane's code encodes each qubit into 7 physical qubits. So for the state $|x>$ where $x\\in \\mathbb{F}_2^n$, we will need $7n$ physical qubits to encode the state. \n",
    "\n",
    "Steane's code [2] is defined by the stabilizer group of 6 commuting operators. 3 of X-type and 3 of Z-type\n",
    "\n",
    "\\begin{align*}\n",
    "M_0 &=X_4X_3X_2X_1, \\,\\,\n",
    "M_1=X_5X_3X_2X_0, \\,\\,\n",
    "M_2=X_6X_3X_1X_0, \\\\\n",
    "N_0&=Z_4Z_3Z_2Z_1, \\,\\,\\,\\,\\,\\,\\,\n",
    "N_1=Z_5Z_3Z_2Z_0, \\,\\,\\,\\,\\,\\,\\,\n",
    "N_2=Z_6Z_3Z_1Z_0.\n",
    "\\end{align*}\n",
    "\n",
    "For a single qubit basis states $|0>$ and $|1>$, the logical $|x_L>$ states for Steane's code are\n",
    "\n",
    "\\begin{align*}\n",
    "|0_L> &=\\frac{1}{\\sqrt{8}} (I+M_0)(I+M_1)(I+M_2)|0>^{\\otimes 7}\\\\\n",
    "&= \\frac{1}{\\sqrt{8}}(|0000000>+|1010101>+|0110011>+|1100110>+|0001111>+|1011010>+|0111100>+|1101001>)\\\\\n",
    "|1_L> &=\\frac{1}{\\sqrt{8}} (I+M_0)(I+M_1)(I+M_2)|1>^{\\otimes 7}\\\\\n",
    "&= \\frac{1}{\\sqrt{8}}(|1111111>+|0101010>+|1001100>+|0011001>+|1110000>+|0100101>+|1000011>+|0010110>)\n",
    "\\end{align*}\n",
    "\n",
    "which are just the superpositions of binary basis vectors from codewords of the [7,4,3] Hamming code that have even and odd numbers of 1s, respectively. An important property to note is that logical states are the eigenvectors of the stabilizer operators with eigenvalue 1. This is key for detecting errors later.\n",
    "\n",
    "$$\n",
    "M_i|x_L>=N_i|x_L>=|x_L>.\n",
    "$$\n",
    "\n",
    "Let us now first prepare the logical state $|x_L>$ given a boolean string $x\\in\\mathbb{F}^n_2$ [3]."
   ]
  },
  {
   "cell_type": "code",
   "execution_count": 2,
   "id": "f73c8d37-0286-4b8b-b043-90472ff1208d",
   "metadata": {},
   "outputs": [],
   "source": [
    "# # define a boolean string\n",
    "# xstring = \"0\"\n",
    "\n",
    "# # length of boolean string\n",
    "# n = len(xstring)\n",
    "\n",
    "# # create a circuit of 7n qubits\n",
    "# steane_qubits = QuantumRegister(size=7*n, name=f\"steane\")\n",
    "# steane_code = QuantumCircuit(steane_qubits, name=\"steane_circuit\")"
   ]
  },
  {
   "cell_type": "code",
   "execution_count": 3,
   "id": "18266677-914c-474e-98a8-a8942192c404",
   "metadata": {},
   "outputs": [],
   "source": [
    "# prepare the logical |x_L> state\n",
    "def encode(xstring, steane_qubits, steane_code):\n",
    "    for i, bit in enumerate(xstring):\n",
    "        if bit == '0':\n",
    "            steane_code.cx(steane_qubits[7*i+6],steane_qubits[7*i+4])\n",
    "            steane_code.cx(steane_qubits[7*i+6],steane_qubits[i+5])\n",
    "            steane_code.h(steane_qubits[7*i+0])\n",
    "            steane_code.cx(steane_qubits[7*i+0],steane_qubits[7*i+3])\n",
    "            steane_code.cx(steane_qubits[7*i+0],steane_qubits[7*i+5])\n",
    "            steane_code.cx(steane_qubits[7*i+0],steane_qubits[7*i+6])\n",
    "            steane_code.h(steane_qubits[7*i+1])\n",
    "            steane_code.cx(steane_qubits[7*i+1],steane_qubits[7*i+3])\n",
    "            steane_code.cx(steane_qubits[7*i+1],steane_qubits[7*i+4])\n",
    "            steane_code.cx(steane_qubits[7*i+1],steane_qubits[i+6])   \n",
    "            steane_code.h(steane_qubits[7*i+2])\n",
    "            steane_code.cx(steane_qubits[7*i+2],steane_qubits[7*i+3])\n",
    "            steane_code.cx(steane_qubits[7*i+2],steane_qubits[7*i+4])\n",
    "            steane_code.cx(steane_qubits[7*i+2],steane_qubits[7*i+5])\n",
    "        else:\n",
    "            steane_code.x(steane_qubits[7*i+6])\n",
    "            steane_code.cx(steane_qubits[7*i+6],steane_qubits[7*i+4])\n",
    "            steane_code.cx(steane_qubits[7*i+6],steane_qubits[7*i+5])\n",
    "            steane_code.h(steane_qubits[7*i+0])\n",
    "            steane_code.cx(steane_qubits[7*i+0],steane_qubits[7*i+3])\n",
    "            steane_code.cx(steane_qubits[7*i+0],steane_qubits[7*i+5])\n",
    "            steane_code.cx(steane_qubits[7*i+0],steane_qubits[7*i+6])\n",
    "            steane_code.h(steane_qubits[7*i+1])\n",
    "            steane_code.cx(steane_qubits[7*i+1],steane_qubits[7*i+3])\n",
    "            steane_code.cx(steane_qubits[7*i+1],steane_qubits[7*i+4])\n",
    "            steane_code.cx(steane_qubits[7*i+1],steane_qubits[7*i+6])   \n",
    "            steane_code.h(steane_qubits[7*i+2])\n",
    "            steane_code.cx(steane_qubits[7*i+2],steane_qubits[7*i+3])\n",
    "            steane_code.cx(steane_qubits[7*i+2],steane_qubits[7*i+4])\n",
    "            steane_code.cx(steane_qubits[7*i+2],steane_qubits[7*i+5])\n",
    "\n",
    "# encode(xstring, steane_qubits, steane_code)\n",
    "# display(steane_code.draw(output=\"mpl\"))\n",
    "# display(Statevector(steane_code).draw(output=\"Latex\"))"
   ]
  },
  {
   "cell_type": "markdown",
   "id": "dbbe4245-c9de-4bfa-9026-5f99bec2af60",
   "metadata": {},
   "source": [
    "### Simulating Noise"
   ]
  },
  {
   "cell_type": "markdown",
   "id": "54cfe675-6bb4-4aec-881b-1a394e81903c",
   "metadata": {},
   "source": [
    "Now, we simulate noise by running the encoded logical state $|x_L>$ through a Pauli error channel. This error channel will apply for each qubit, an X,Y or Z error with a given probability $p\\leq 3$. In other words:\n",
    "\n",
    "$$\n",
    "\\mathbb{P}(\\text{no error})=1-3p,\n",
    "$$\n",
    "$$\n",
    "\\mathbb{P}(\\text{X error})=\\mathbb{P}(\\text{Y error})=\\mathbb{P}(\\text{Z error})=p.\n",
    "$$\n",
    "\n",
    "To create this, we generate a random number r,  between 0 and 1. If the random number is $0\\leq r < p$, we apply a X error, $p\\leq r < 2p$, we apply a Y error, $2p\\leq r < 3p$, we apply a Z error, or no error otherwise."
   ]
  },
  {
   "cell_type": "code",
   "execution_count": 4,
   "id": "1ed26f87-9548-4d70-bff4-950a0516162e",
   "metadata": {},
   "outputs": [],
   "source": [
    "# define the Pauli error channel \n",
    "def error(p, steane_qubits, steane_code):\n",
    "    for qubit in range(7*n):\n",
    "        r = np.random.rand()\n",
    "        if r < p:\n",
    "            steane_code.x(qubit)\n",
    "            # print(f\"Qubit {qubit}: X error applied\")\n",
    "        elif r < 2*p:\n",
    "            steane_code.y(qubit)\n",
    "            # print(f\"Qubit {qubit}: Y error applied\")\n",
    "        elif r < 3*p:\n",
    "            steane_code.z(qubit)\n",
    "            # print(f\"Qubit {qubit}: Z error applied\")\n",
    "      # else:\n",
    "            # print(f\"Qubit {qubit}: No error applied\")\n",
    "    \n",
    "# p=0.05\n",
    "# steane_code.barrier()\n",
    "# error(p, steane_qubits, steane_code)\n",
    "# display(steane_code.draw(output=\"mpl\"))\n",
    "# display(Statevector(steane_code).draw(output=\"Latex\"))"
   ]
  },
  {
   "cell_type": "markdown",
   "id": "98feed0d",
   "metadata": {},
   "source": [
    "### Error Detection for 1 Qubit Errors"
   ]
  },
  {
   "cell_type": "markdown",
   "id": "020ca91c-6e22-413f-806b-824d556187ca",
   "metadata": {},
   "source": [
    "Now we want to measure the syndromes to find where 1 qubit errors occurred. Let us first define the parity check matrix coming from the [7,4,3] Hamming code which are the same for both X and Z errors\n",
    "\n",
    "$$\n",
    "H_X=H_Z=\\begin{pmatrix}\n",
    "0 & 0 & 0 & 1 & 1 & 1 & 1\\\\\n",
    "0 & 1 & 1 & 0 & 0 & 1 & 1\\\\\n",
    "1 & 0 & 1 & 0 & 1 & 0 & 1\n",
    "\\end{pmatrix}.\n",
    "$$\n",
    "\n",
    "The columns are syndromes for the corresponding $X,Z$ errors that help us to decode. Below are syndrome to $X,Z$ error recipe:\n",
    "\n",
    "\\begin{align}\n",
    "    \\begin{pmatrix} 0 \\\\ 0 \\\\ 0 \\end{pmatrix}   &\\mapsto \\text{no 1 qubit error} \\\\\n",
    "    \\begin{pmatrix} 1 \\\\ 0 \\\\ 0 \\end{pmatrix}   &\\mapsto X_0, Z_0 \\\\\n",
    "    \\begin{pmatrix} 0 \\\\ 1 \\\\ 0 \\end{pmatrix}   &\\mapsto X_1, Z_1 \\\\\n",
    "    \\begin{pmatrix} 0 \\\\ 0 \\\\ 1 \\end{pmatrix}   &\\mapsto X_2, Z_2 \\\\\n",
    "    \\begin{pmatrix} 1 \\\\ 1 \\\\ 0 \\end{pmatrix}   &\\mapsto X_3, Z_3 \\\\\n",
    "    \\begin{pmatrix} 0 \\\\ 1 \\\\ 1 \\end{pmatrix}   &\\mapsto X_4, Z_4 \\\\\n",
    "    \\begin{pmatrix} 1 \\\\ 0 \\\\ 1 \\end{pmatrix}   &\\mapsto X_5, Z_5 \\\\\n",
    "    \\begin{pmatrix} 1 \\\\ 1 \\\\ 1 \\end{pmatrix}   &\\mapsto X_6, Z_6 \\\\\n",
    "\\end{align}\n",
    "\n",
    "Note $Y=iXZ$, so Y errors can also be detected and corrected. For each logical qubit, we introduce 3 ancilla qubits for the X syndrome checks and 3 ancilla qubits for the Z syndrome checks. We write a code with controlled X and X gates to collect the parity of bit and phase flips, make measurements, and store them on classical bits. The rows of the parity check matrix are the stabilizers, which tell us which qubits to make the controls, and they act on the corresponding target ancillas.\n"
   ]
  },
  {
   "cell_type": "code",
   "execution_count": 5,
   "id": "4dbd6f48-40dd-40ef-b0ac-454f752fa460",
   "metadata": {},
   "outputs": [],
   "source": [
    "# # parity check matrix\n",
    "# H = np.array([[1, 1, 1, 1, 0, 0,0],\n",
    "#               [1, 1, 0, 0, 1, 1, 0],\n",
    "#               [1, 0, 1, 0, 1, 0, 1]])\n",
    "\n",
    "# # create ancillas for each 7-qubits block to extract syndromes\n",
    "# qubits_for_Z_checks = AncillaRegister(3*n, name=f\"Zcheck\")\n",
    "# qubits_for_X_checks = AncillaRegister(3*n, name=f\"Xcheck\")\n",
    "# steane_code.add_register(qubits_for_X_checks, qubits_for_Z_checks)\n",
    "\n",
    "# # create classical bits for each 7-qubits block storing syndrome measurements\n",
    "# Z_syndromes = [ClassicalRegister(3, f\"s_Z_{i}\") for i in range(n)]\n",
    "# X_syndromes = [ClassicalRegister(3, f\"s_X_{i}\") for i in range(n)]\n",
    "# for reg in Z_syndromes + X_syndromes:\n",
    "#     steane_code.add_register(reg)"
   ]
  },
  {
   "cell_type": "code",
   "execution_count": 6,
   "id": "e006346b-2eb3-408f-850d-ef4fe3a4c5df",
   "metadata": {},
   "outputs": [],
   "source": [
    "# syndrome extraction\n",
    "def syndromeextraction(steane_qubits, qubits_for_X_checks, qubits_for_Z_checks, reg, steane_code, H):\n",
    "    \n",
    "    # extract X syndromes\n",
    "    for i in range(n):\n",
    "        # for j in range(7*i,7*i+7):\n",
    "        for idx, row in enumerate(H):\n",
    "            for qubit_index in np.where(row)[0]:\n",
    "                steane_code.cx(steane_qubits[7*i+qubit_index], qubits_for_X_checks[3*i+idx])\n",
    "    steane_code.barrier()\n",
    "    \n",
    "    # extract Z syndromes\n",
    "    for k in range(7*n):\n",
    "        steane_code.h(k)\n",
    "    for i in range(n):\n",
    "        # for j in range(7*i,7*i+7):\n",
    "        for idx, row in enumerate(H):\n",
    "            for qubit_index in np.where(row)[0]:\n",
    "                steane_code.cx(steane_qubits[7*i+qubit_index], qubits_for_Z_checks[3*i+idx])\n",
    "    for k in range(7*n):\n",
    "        steane_code.h(k)\n",
    "    steane_code.barrier()\n",
    "\n",
    "    # measure\n",
    "    for i in range(n):\n",
    "        steane_code.measure(qubits_for_X_checks, X_syndromes[i])\n",
    "        steane_code.barrier()\n",
    "        \n",
    "        steane_code.measure(qubits_for_Z_checks, Z_syndromes[i])\n",
    "        steane_code.barrier()\n",
    "                \n",
    "# syndromeextraction(steane_qubits, qubits_for_X_checks, qubits_for_Z_checks, reg, steane_code, H)\n",
    "# steane_code.draw(output=\"mpl\")"
   ]
  },
  {
   "cell_type": "markdown",
   "id": "221d00f3-2e37-4862-bd80-9b5b6ff19b61",
   "metadata": {},
   "source": [
    "### Correcting 1 Qubit Errors and Decoding"
   ]
  },
  {
   "cell_type": "markdown",
   "id": "45843b42-d54c-44c4-a3df-09ef5c585539",
   "metadata": {},
   "source": [
    "With the information where there are 1 qubit errors, we now apply recovery operations to fix them, decode and measure the data qubits to see how the recovery went. We use conditional corrections based on the measured X,Z syndromes. If a syndrome indicates an X error on qubit i, apply an X gate to correct it. If a syndrome indicates a Z error on qubit i, apply a Z gate to correct it."
   ]
  },
  {
   "cell_type": "code",
   "execution_count": 7,
   "id": "4b232936-91bf-4bd9-9ea5-cb7fb5f0319c",
   "metadata": {},
   "outputs": [],
   "source": [
    "# error correction\n",
    "def errorcorrection(steane_qubits, reg, steane_code):\n",
    "    for i in range(n):\n",
    "        \n",
    "        # X correction\n",
    "        xx_block = X_syndromes[i]\n",
    "        with steane_code.if_test((xx_block, 4)):\n",
    "            steane_code.x(steane_qubits[6+7*i])\n",
    "        \n",
    "        with steane_code.if_test((xx_block, 2)):\n",
    "            steane_code.x(steane_qubits[5+7*i])\n",
    "        \n",
    "        with steane_code.if_test((xx_block, 6)):\n",
    "            steane_code.x(steane_qubits[4+7*i])\n",
    "        \n",
    "        with steane_code.if_test((xx_block, 1)):\n",
    "            steane_code.x(steane_qubits[3+7*i])\n",
    "\n",
    "        with steane_code.if_test((xx_block, 5)):\n",
    "            steane_code.x(steane_qubits[2+7*i])\n",
    "        \n",
    "        with steane_code.if_test((xx_block, 3)):\n",
    "            steane_code.x(steane_qubits[1+7*i])\n",
    "        \n",
    "        with steane_code.if_test((xx_block, 7)):\n",
    "            steane_code.x(steane_qubits[0+7*i])\n",
    "\n",
    "        steane_code.barrier()\n",
    "        \n",
    "        # Z correction\n",
    "        zz_block = Z_syndromes[i]\n",
    "        with steane_code.if_test((zz_block, 4)):\n",
    "            steane_code.z(steane_qubits[6+7*i])\n",
    "            \n",
    "        with steane_code.if_test((zz_block, 2)):\n",
    "            steane_code.z(steane_qubits[5+7*i])\n",
    "        \n",
    "        with steane_code.if_test((zz_block, 6)):\n",
    "            steane_code.z(steane_qubits[4+7*i])\n",
    "        \n",
    "        with steane_code.if_test((zz_block, 1)):\n",
    "            steane_code.z(steane_qubits[3+7*i])\n",
    "\n",
    "        with steane_code.if_test((zz_block, 5)):\n",
    "            steane_code.z(steane_qubits[2+7*i])\n",
    "        \n",
    "        with steane_code.if_test((zz_block, 3)):\n",
    "            steane_code.z(steane_qubits[1+7*i])\n",
    "        \n",
    "        with steane_code.if_test((zz_block, 7)):\n",
    "            steane_code.z(steane_qubits[0+7*i])\n",
    "\n",
    "# steane_code.barrier()\n",
    "# errorcorrection(steane_qubits, reg, steane_code)\n",
    "# steane_code.draw(output=\"mpl\")"
   ]
  },
  {
   "cell_type": "markdown",
   "id": "bd7ee3cc-a72a-41da-bf29-952fcafa9438",
   "metadata": {},
   "source": [
    "Now we decode and measure our data qubits. If the data qubits are in the all zero state, then the error correction was successful."
   ]
  },
  {
   "cell_type": "markdown",
   "id": "b6036771-d981-4317-a48d-6a779dfcff65",
   "metadata": {},
   "source": [
    "Let us use Qiskit's AerSimulator to how how our Steane's code perform. "
   ]
  },
  {
   "cell_type": "code",
   "execution_count": 8,
   "id": "dc44585e-161e-4688-85e9-e4007919e4ee",
   "metadata": {},
   "outputs": [],
   "source": [
    "def measure_steane(steane_qubits, steane_code):\n",
    "    # measure\n",
    "    steane_code.measure(steane_qubits, qubit_measurements)"
   ]
  },
  {
   "cell_type": "code",
   "execution_count": 9,
   "id": "0b936742-520b-454b-a607-2976c7e3c151",
   "metadata": {},
   "outputs": [],
   "source": [
    "simulator = AerSimulator()"
   ]
  },
  {
   "cell_type": "code",
   "execution_count": 10,
   "id": "3f0785aa-e7e8-4c6b-9e27-0261726344ca",
   "metadata": {},
   "outputs": [],
   "source": [
    "# p=0.05\n",
    "# steane_code\n",
    "# encode(xstring, steane_qubits, steane_code)\n",
    "# steane_code.barrier()\n",
    "# error(p, steane_qubits, steane_code)\n",
    "# steane_code.barrier()\n",
    "# syndromeextraction(steane_qubits, qubits_for_X_checks, qubits_for_Z_checks, reg, steane_code, H)\n",
    "# steane_code.barrier()\n",
    "# errorcorrection(steane_qubits, reg, steane_code)\n",
    "# steane_code.barrier()\n",
    "# measure_steane(steane_qubits, steane_code)\n",
    "# display(steane_code.draw(output=\"mpl\"))\n",
    "\n",
    "# rounds = 1000\n",
    "# # Transpile the circuit for the backend\n",
    "# compiled_circuit = transpile(steane_code, simulator)\n",
    "\n",
    "# # Run the circuit\n",
    "# job = simulator.run(compiled_circuit, shots=rounds)\n",
    "\n",
    "# # Get the measurement counts\n",
    "# counts = job.result().get_counts()\n",
    "\n",
    "# # Print the counts\n",
    "# counts"
   ]
  },
  {
   "cell_type": "code",
   "execution_count": 11,
   "id": "da8953ca-eb1f-47b6-a9e1-378ce9d752eb",
   "metadata": {},
   "outputs": [],
   "source": [
    "# distribution = {}\n",
    "# for measurement in counts:\n",
    "#     if measurement[:7] in distribution:\n",
    "#         distribution[measurement[:7]] += counts[measurement] / rounds\n",
    "#     else:\n",
    "#         distribution[measurement[:7]] = counts[measurement] / rounds\n",
    "\n",
    "# distribution"
   ]
  },
  {
   "cell_type": "markdown",
   "id": "34a714c0",
   "metadata": {},
   "source": [
    "# Success Probability"
   ]
  },
  {
   "cell_type": "markdown",
   "id": "c1289f3c",
   "metadata": {},
   "source": [
    "In this section, we take the single qubit basis state $|0>$ and run it through Steane's code to see how the success probability changes for various values of $p$. The success probability is defined as the probability of measuring the logical all-zero single qubit state $|0_L>$ at the end."
   ]
  },
  {
   "cell_type": "code",
   "execution_count": 12,
   "id": "bc536cf9-c4b6-4079-9878-3191f4bd827b",
   "metadata": {},
   "outputs": [
    {
     "name": "stdout",
     "output_type": "stream",
     "text": [
      "p=0.000  Success: 100/100  P_success=1.0000\n",
      "p=0.010  Success: 99/100  P_success=0.9900\n",
      "p=0.021  Success: 96/100  P_success=0.9600\n",
      "p=0.031  Success: 90/100  P_success=0.9000\n",
      "p=0.041  Success: 90/100  P_success=0.9000\n",
      "p=0.052  Success: 86/100  P_success=0.8600\n",
      "p=0.062  Success: 87/100  P_success=0.8700\n",
      "p=0.072  Success: 74/100  P_success=0.7400\n",
      "p=0.083  Success: 73/100  P_success=0.7300\n",
      "p=0.093  Success: 69/100  P_success=0.6900\n",
      "p=0.103  Success: 73/100  P_success=0.7300\n",
      "p=0.114  Success: 70/100  P_success=0.7000\n",
      "p=0.124  Success: 72/100  P_success=0.7200\n",
      "p=0.134  Success: 55/100  P_success=0.5500\n",
      "p=0.145  Success: 63/100  P_success=0.6300\n",
      "p=0.155  Success: 59/100  P_success=0.5900\n",
      "p=0.166  Success: 57/100  P_success=0.5700\n",
      "p=0.176  Success: 54/100  P_success=0.5400\n",
      "p=0.186  Success: 52/100  P_success=0.5200\n",
      "p=0.197  Success: 52/100  P_success=0.5200\n",
      "p=0.207  Success: 51/100  P_success=0.5100\n",
      "p=0.217  Success: 53/100  P_success=0.5300\n",
      "p=0.228  Success: 48/100  P_success=0.4800\n",
      "p=0.238  Success: 47/100  P_success=0.4700\n",
      "p=0.248  Success: 50/100  P_success=0.5000\n",
      "p=0.259  Success: 52/100  P_success=0.5200\n",
      "p=0.269  Success: 53/100  P_success=0.5300\n",
      "p=0.279  Success: 49/100  P_success=0.4900\n",
      "p=0.290  Success: 49/100  P_success=0.4900\n",
      "p=0.300  Success: 56/100  P_success=0.5600\n"
     ]
    }
   ],
   "source": [
    "# define a boolean string\n",
    "xstring = \"0\"\n",
    "# length of boolean string\n",
    "n = len(xstring)\n",
    "\n",
    "# parity check matrix\n",
    "H = np.array([[1, 1, 1, 1, 0, 0,0],\n",
    "              [1, 1, 0, 0, 1, 1, 0],\n",
    "              [1, 0, 1, 0, 1, 0, 1]])\n",
    "\n",
    "# define s set of p values\n",
    "p_values = np.linspace(0, 0.3, 30)\n",
    "# success probability\n",
    "prob_all = []\n",
    "# number of rounds\n",
    "rounds = 100\n",
    "\n",
    "# simulate over set of p values\n",
    "for pp in p_values:\n",
    "    success_counts = 0\n",
    "    total_counts = 0\n",
    "\n",
    "    for r in range(rounds):\n",
    "        #create a circuit of 7n qubits\n",
    "        steane_qubits = QuantumRegister(size=7*n, name=f\"steane\")\n",
    "        steane_code = QuantumCircuit(steane_qubits, name=\"steane_circuit\") \n",
    "        # create ancillas for each 7-qubits block to extract syndromes\n",
    "        qubits_for_Z_checks = AncillaRegister(3*n, name=f\"Zcheck\")\n",
    "        qubits_for_X_checks = AncillaRegister(3*n, name=f\"Xcheck\")\n",
    "        steane_code.add_register(qubits_for_X_checks, qubits_for_Z_checks)\n",
    "        # create classical bits for each 7-qubits block storing syndrome measurements\n",
    "        Z_syndromes = [ClassicalRegister(3, f\"s_Z_{i}\") for i in range(n)]\n",
    "        X_syndromes = [ClassicalRegister(3, f\"s_X_{i}\") for i in range(n)]\n",
    "        for reg in Z_syndromes + X_syndromes:\n",
    "            steane_code.add_register(reg)\n",
    "        # classical bits for data\n",
    "        qubit_measurements = ClassicalRegister(7*n, name=f\"qmes\")\n",
    "        steane_code.add_register(qubit_measurements)\n",
    "\n",
    "        # new encoding, errors, and correction for each shot\n",
    "        encode(xstring, steane_qubits, steane_code)\n",
    "        steane_code.barrier()\n",
    "        # new errors for each run\n",
    "        error(pp, steane_qubits, steane_code)\n",
    "        steane_code.barrier()\n",
    "        syndromeextraction(steane_qubits, qubits_for_X_checks, qubits_for_Z_checks, reg, steane_code, H)\n",
    "        steane_code.barrier()\n",
    "        errorcorrection(steane_qubits, reg, steane_code)\n",
    "        steane_code.barrier()\n",
    "        measure_steane(steane_qubits, steane_code)\n",
    "\n",
    "        # run this single-shot circuit\n",
    "        compiled_circuit = transpile(steane_code, simulator)\n",
    "        job = simulator.run(compiled_circuit, shots=1)\n",
    "        counts = job.result().get_counts()\n",
    "\n",
    "        # check success\n",
    "        v_0 = {\"1010101\", \"0000000\", \"1100110\", \"0111100\",\n",
    "               \"0110011\", \"0001111\", \"1101001\", \"1011010\"}\n",
    "        v_1 = {\"1111111\", \"0101010\", \"1001100\", \"0011001\",\n",
    "               \"1110000\", \"0100101\", \"1000011\", \"0010110\"}\n",
    "\n",
    "        for bitstring, shot_count in counts.items():\n",
    "            chunks = [bitstring[i*7:(i+1)*7] for i in range(n)]\n",
    "            for chunk, case in zip(chunks, xstring):\n",
    "                if (case == \"0\" and chunk in v_0) or (case == \"1\" and chunk in v_1):\n",
    "                    success_counts += shot_count\n",
    "            total_counts += shot_count\n",
    "\n",
    "    # success probability for this p\n",
    "    success_prob = success_counts / total_counts\n",
    "    prob_all.append(success_prob)\n",
    "\n",
    "    print(f\"p={pp:.3f}  Success: {success_counts}/{total_counts}  P_success={success_prob:.4f}\")"
   ]
  },
  {
   "cell_type": "code",
   "execution_count": 13,
   "id": "561e218a-aa72-435e-816e-195c32d9238e",
   "metadata": {},
   "outputs": [
    {
     "data": {
      "image/png": "[encoded data removed]",
      "text/plain": [
       "<Figure size 800x500 with 1 Axes>"
      ]
     },
     "metadata": {},
     "output_type": "display_data"
    }
   ],
   "source": [
    "# plotting\n",
    "plt.figure(figsize=(8, 5))\n",
    "plt.scatter(p_values, prob_all, label=\"P(correct state)\")\n",
    "plt.xlabel(\"Error probability p\")\n",
    "plt.ylabel(\"Probability of correct state\")\n",
    "plt.title(\"Success Probability\")\n",
    "plt.grid(True)\n",
    "plt.legend()\n",
    "plt.show()"
   ]
  },
  {
   "cell_type": "markdown",
   "id": "735dd593",
   "metadata": {},
   "source": [
    "# References\n",
    "\n",
    "[1] Steane, A., Error Correcting Codes in Quantum Theory, Physical Review Letters, 77(5), (1996).\n",
    "\n",
    "[2] Nakahara, M. and Ohmi T., Quantum Computing From Linear Algebra to Physical Realizations, CRC Press, (2008).\n",
    "\n",
    "[3] https://abdullahkhalid.com/qecft/stabilizer-codes/encoding-circuits-for-stabilizer-codes/"
   ]
  }
 ],
 "metadata": {
  "kernelspec": {
   "display_name": "Qiskit (stable)",
   "language": "python",
   "name": "qiskit-stable"
  },
  "language_info": {
   "codemirror_mode": {
    "name": "ipython",
    "version": 3
   },
   "file_extension": ".py",
   "mimetype": "text/x-python",
   "name": "python",
   "nbconvert_exporter": "python",
   "pygments_lexer": "ipython3",
   "version": "3.11.5"
  }
 },
 "nbformat": 4,
 "nbformat_minor": 5
}
